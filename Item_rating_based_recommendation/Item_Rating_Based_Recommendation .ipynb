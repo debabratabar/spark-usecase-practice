{
 "cells": [
  {
   "cell_type": "markdown",
   "id": "ed8c5c07-228e-4ee6-b74f-99bcc9253c48",
   "metadata": {},
   "source": [
    "### Item Rating Based Recommendation "
   ]
  },
  {
   "cell_type": "code",
   "execution_count": 2,
   "id": "4c2e23f1-283e-4e78-83a9-238a2a16b299",
   "metadata": {},
   "outputs": [],
   "source": [
    "from pyspark.sql import SparkSession \n",
    "from pyspark.sql.types import IntegerType , StringType ,StructType  , StructField , FloatType , TimestampType , LongType\n",
    "from pyspark.sql import functions as func"
   ]
  },
  {
   "cell_type": "code",
   "execution_count": 3,
   "id": "0d181315-a522-4a30-a293-119e45fe1162",
   "metadata": {},
   "outputs": [],
   "source": [
    "spark = SparkSession.builder.appName('Friends_Analysis').getOrCreate()"
   ]
  },
  {
   "cell_type": "code",
   "execution_count": 5,
   "id": "5cdebc08-5b03-41c3-a524-3d1b479f32cb",
   "metadata": {},
   "outputs": [],
   "source": [
    "rating_schema = StructType([\\\n",
    "    StructField('user_id' , IntegerType() , True),\n",
    "    StructField('movie_id' , IntegerType() , True),  \n",
    "    StructField('rating' , IntegerType() , True)\n",
    "])\n",
    "\n",
    "ratings = spark.read.option('sep' , '\\t').schema(rating_schema).csv('u.data')\n",
    "\n",
    "movieName_schema = StructType([\\\n",
    "    StructField('Id' , IntegerType() , True),\\\n",
    "    StructField('Name' , StringType(), True)    \n",
    "])\n",
    "\n",
    "movieName = spark.read.option('sep' , '|').schema(movieName_schema).csv('u.item')"
   ]
  },
  {
   "cell_type": "code",
   "execution_count": 6,
   "id": "dc83b78f-3fe8-4411-ab21-b425b2a08027",
   "metadata": {},
   "outputs": [],
   "source": [
    "\n",
    "# doing a self join with ratings to get every pair of movie and their rating \n",
    "complete_movie_rating_data = ratings.alias('ratings1')\\\n",
    "                            .join( ratings.alias('ratings2') , ( (func.col('ratings1.user_id') == func.col('ratings2.user_id')) & ( \n",
    "                                func.col('ratings1.movie_id') < func.col('ratings2.movie_id') )  )  )\\\n",
    "                             .select( func.col('ratings1.movie_id').alias('movie1'),\\\n",
    "                                     func.col('ratings2.movie_id').alias('movie2'),\\\n",
    "                                     func.col('ratings1.rating').alias('rating1'),\\\n",
    "                                     func.col('ratings2.rating').alias('rating2')\n",
    "                                    )   \n",
    "\n"
   ]
  },
  {
   "cell_type": "code",
   "execution_count": 7,
   "id": "82568911-d679-48c4-af4b-6cff8b85ba28",
   "metadata": {},
   "outputs": [
    {
     "name": "stdout",
     "output_type": "stream",
     "text": [
      "+------+------+-------+-------+---+---+---+\n",
      "|movie1|movie2|rating1|rating2| xx| yy| xy|\n",
      "+------+------+-------+-------+---+---+---+\n",
      "|   242|   269|      3|      3|  9|  9|  9|\n",
      "|   242|   845|      3|      4|  9| 16| 12|\n",
      "|   242|  1022|      3|      4|  9| 16| 12|\n",
      "|   242|   762|      3|      3|  9|  9|  9|\n",
      "|   242|   411|      3|      4|  9| 16| 12|\n",
      "|   242|  1007|      3|      4|  9| 16| 12|\n",
      "|   242|  1241|      3|      3|  9|  9|  9|\n",
      "|   242|   285|      3|      5|  9| 25| 15|\n",
      "|   242|   382|      3|      4|  9| 16| 12|\n",
      "|   242|   287|      3|      3|  9|  9|  9|\n",
      "+------+------+-------+-------+---+---+---+\n",
      "only showing top 10 rows\n",
      "\n"
     ]
    }
   ],
   "source": [
    "## adding xx ,xy , yy data for recomendation \n",
    "pair_data = complete_movie_rating_data\\\n",
    "                .withColumn('xx' , func.col('rating1') * func.col('rating1') ) \\\n",
    "                .withColumn('yy' , func.col('rating2') * func.col('rating2') ) \\\n",
    "                .withColumn('xy' , func.col('rating1') * func.col('rating2') ) \n",
    "\n",
    "pair_data.show(10)"
   ]
  },
  {
   "cell_type": "code",
   "execution_count": 9,
   "id": "f97146ed-b0e7-4906-a25b-9a173063d2ec",
   "metadata": {},
   "outputs": [
    {
     "name": "stdout",
     "output_type": "stream",
     "text": [
      "+------+------+-----+------------------+--------+\n",
      "|movie1|movie2|Denom|         numerator|numPairs|\n",
      "+------+------+-----+------------------+--------+\n",
      "|    51|   924|  197|208.13457185196313|      15|\n",
      "|   451|   529|  357| 410.3425398371463|      30|\n",
      "|    86|   318| 1669|1745.2701796570066|      95|\n",
      "|    40|   167|  241| 253.9921258622007|      23|\n",
      "|   274|  1211|   78|  79.5989949685296|       7|\n",
      "|  1042|  1067|   20|              20.0|       2|\n",
      "|   118|   946|  402| 437.8858298689283|      40|\n",
      "|   234|   461|  756| 794.0976010541777|      54|\n",
      "|    88|   523| 1021|  1066.07692030172|      74|\n",
      "|   796|  1036|   91| 94.91575211733824|       8|\n",
      "+------+------+-----+------------------+--------+\n",
      "only showing top 10 rows\n",
      "\n"
     ]
    }
   ],
   "source": [
    "# calculating the numerator and denomerator to calculate the score for every pair of movie \n",
    "\n",
    "final_data = pair_data\\\n",
    "                .groupBy( func.col('movie1') , func.col( 'movie2') )\\\n",
    "                .agg(  func.sum( func.col('xy')).alias('Denom')  ,\\\n",
    "                    func.sqrt(  func.sum( func.col('xx')) * func.sum( func.col('yy'))  ).alias('numerator'),\\\n",
    "                    func.count( func.col('xy')).alias('numPairs') )\\\n",
    "                # .select( 'movie1' , 'movie2' , '')\n",
    "\n",
    "final_data.show(10)"
   ]
  },
  {
   "cell_type": "code",
   "execution_count": 10,
   "id": "07d03bee-86a4-4428-9d71-aaa5ca6f998f",
   "metadata": {},
   "outputs": [
    {
     "name": "stdout",
     "output_type": "stream",
     "text": [
      "+------+------+-----+--------+\n",
      "|movie1|movie2|score|numPairs|\n",
      "+------+------+-----+--------+\n",
      "|    51|   924| 1.06|      15|\n",
      "|   451|   529| 1.15|      30|\n",
      "|    86|   318| 1.05|      95|\n",
      "|    40|   167| 1.05|      23|\n",
      "|   274|  1211| 1.02|       7|\n",
      "|  1042|  1067|  1.0|       2|\n",
      "|   118|   946| 1.09|      40|\n",
      "|   234|   461| 1.05|      54|\n",
      "|    88|   523| 1.04|      74|\n",
      "|   796|  1036| 1.04|       8|\n",
      "+------+------+-----+--------+\n",
      "only showing top 10 rows\n",
      "\n"
     ]
    }
   ],
   "source": [
    "# calculating the score using previously calculated demom and numerator also covering edge cases devide by zero \n",
    "result = final_data\\\n",
    "            .withColumn( 'score' , func.when( func.col('Denom') !=0 , func.round( func.col('numerator') / func.col('Denom') , 2 ) ).otherwise(0) )\\\n",
    "            .select('movie1' , 'movie2' , 'score' , 'numPairs')\n",
    "\n",
    "result.show(10)\n"
   ]
  },
  {
   "cell_type": "code",
   "execution_count": 11,
   "id": "03d005f2-1d09-4f5b-b5e6-f19b5efe2c83",
   "metadata": {},
   "outputs": [],
   "source": [
    "## setting up threshold value for better performance \n",
    "pairThreshold = 50.0\n",
    "scoreThreshold = 0.97 "
   ]
  },
  {
   "cell_type": "code",
   "execution_count": 12,
   "id": "4ebe6a60-2fb7-4e03-9d52-c63900aea9d3",
   "metadata": {},
   "outputs": [],
   "source": [
    "## using a movieId to getting movie recomendation as per movie_id = 50  \n",
    "findMovieId = 50\n",
    "\n",
    "## adding condn. to get best cases based on threshold value\n",
    "getActualMovieIds = result\\\n",
    "                    .filter( ( (func.col('movie1') == findMovieId)  |   (func.col('movie2') == findMovieId )) \\\n",
    "                           & (func.col('score') >= scoreThreshold ) & (func.col('numPairs') >= pairThreshold  ))\n",
    "\n",
    "actual_result = getActualMovieIds.sort(func.col('score').desc()).take(10)"
   ]
  },
  {
   "cell_type": "code",
   "execution_count": 13,
   "id": "68958f98-fc66-4dff-83b3-9f90b2149964",
   "metadata": {},
   "outputs": [],
   "source": [
    "# to get the movie title as per the movie_id \n",
    "def getMovieName( movieName , actualMovieId):\n",
    "    return movieName.filter( func.col('Id') == actualMovieId).select('Name').collect()[0][0]"
   ]
  },
  {
   "cell_type": "code",
   "execution_count": 14,
   "id": "c7c34840-cc69-4e96-93c1-a3067dc7c43c",
   "metadata": {},
   "outputs": [
    {
     "name": "stdout",
     "output_type": "stream",
     "text": [
      " Movie_id = Crash (1996) , score = 1.16  , numPairs = 75 \n",
      " Movie_id = Jungle2Jungle (1997) , score = 1.13  , numPairs = 81 \n",
      " Movie_id = Cook the Thief His Wife & Her Lover, The (1989) , score = 1.13  , numPairs = 70 \n",
      " Movie_id = Event Horizon (1997) , score = 1.13  , numPairs = 89 \n",
      " Movie_id = Striptease (1996) , score = 1.13  , numPairs = 53 \n",
      " Movie_id = Beautician and the Beast, The (1997) , score = 1.12  , numPairs = 53 \n",
      " Movie_id = Cable Guy, The (1996) , score = 1.12  , numPairs = 95 \n",
      " Movie_id = Star Trek V: The Final Frontier (1989) , score = 1.12  , numPairs = 59 \n",
      " Movie_id = Bean (1997) , score = 1.11  , numPairs = 53 \n",
      " Movie_id = Serial Mom (1994) , score = 1.11  , numPairs = 50 \n"
     ]
    }
   ],
   "source": [
    "## getting the movie_id 50 related recommendations \n",
    "\n",
    "for result in actual_result :\n",
    "    actualMovieId = result.movie1\n",
    "    if actualMovieId == findMovieId:\n",
    "        actualMovieId = result.movie2\n",
    "    print(f' Movie_id = { getMovieName(movieName,actualMovieId)} , score = {result.score}  , numPairs = {result.numPairs} ' ) "
   ]
  }
 ],
 "metadata": {
  "kernelspec": {
   "display_name": "Python 3",
   "language": "python",
   "name": "python3"
  },
  "language_info": {
   "codemirror_mode": {
    "name": "ipython",
    "version": 3
   },
   "file_extension": ".py",
   "mimetype": "text/x-python",
   "name": "python",
   "nbconvert_exporter": "python",
   "pygments_lexer": "ipython3",
   "version": "3.13.1"
  }
 },
 "nbformat": 4,
 "nbformat_minor": 5
}
