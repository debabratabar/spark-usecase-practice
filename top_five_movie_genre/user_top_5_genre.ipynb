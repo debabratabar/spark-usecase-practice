{
 "cells": [
  {
   "cell_type": "markdown",
   "id": "d73965e2-bc0a-4b2b-a83d-d1803be9561c",
   "metadata": {},
   "source": [
    "## User Top 5 movie genre"
   ]
  },
  {
   "cell_type": "code",
   "execution_count": 14,
   "id": "8cf52ff7-5537-4eac-8cf3-af3cc300b811",
   "metadata": {},
   "outputs": [],
   "source": [
    "from pyspark.sql import SparkSession \n",
    "from pyspark.sql.types import IntegerType , StringType ,StructType  , StructField , FloatType , TimestampType , LongType , DateType\n",
    "from pyspark.sql import functions as func\n",
    "from pyspark.sql.window import Window"
   ]
  },
  {
   "cell_type": "code",
   "execution_count": 2,
   "id": "282d0f20-8ae7-45cc-b98c-1b7dfe23c404",
   "metadata": {},
   "outputs": [],
   "source": [
    "spark = SparkSession.builder.appName('Friends_Analysis').getOrCreate()"
   ]
  },
  {
   "cell_type": "code",
   "execution_count": 17,
   "id": "3f3dcd69-d73f-4f5a-87ec-e6ac0ec597bc",
   "metadata": {},
   "outputs": [
    {
     "name": "stdout",
     "output_type": "stream",
     "text": [
      "+-------+--------+\n",
      "|user_id|movie_id|\n",
      "+-------+--------+\n",
      "|      1|      61|\n",
      "|      1|     189|\n",
      "|      1|      33|\n",
      "|      1|     160|\n",
      "|      1|      20|\n",
      "|      1|     202|\n",
      "|      1|     171|\n",
      "|      1|     265|\n",
      "|      1|     155|\n",
      "|      1|     117|\n",
      "+-------+--------+\n",
      "only showing top 10 rows\n",
      "\n"
     ]
    }
   ],
   "source": [
    "ratings.where( func.col('user_id') == 1).show(10)"
   ]
  },
  {
   "cell_type": "code",
   "execution_count": 3,
   "id": "00280a48-9c46-43b1-b74a-16b0305604a8",
   "metadata": {},
   "outputs": [],
   "source": [
    "ratings_schema = StructType([\\\n",
    "    StructField('user_id' , IntegerType() , True),\n",
    "    StructField('movie_id' , IntegerType() , True)\n",
    "])\n",
    "\n",
    "ratings = spark.read.option('sep' , '\\t').schema(ratings_schema).csv('ml-100k/ml-100k/u.data')\n",
    "\n",
    "movieMetaDataSchema = StructType([\\\n",
    "    StructField('Id' , IntegerType() , True),\\\n",
    "    StructField('Name' , StringType(), True),\\\n",
    "    StructField('releaseDate' , DateType(), True),\\\n",
    "    StructField('videoReleaseDate' , DateType(), True),\\\n",
    "    StructField('imdb_url' , StringType(), True),\\\n",
    "    StructField('unknown' , StringType(), True),\\\n",
    "    StructField('IsAction' , IntegerType(), True),\\\n",
    "    StructField('IsAdventure' , IntegerType(), True),\\\n",
    "    StructField('IsAnimation' , IntegerType(), True),\\\n",
    "    StructField('IsChildren' , IntegerType(), True),\\\n",
    "    StructField('IsComedy' , IntegerType(), True),\\\n",
    "    StructField('IsCrime' , IntegerType(), True),\\\n",
    "    StructField('IsDocumentary' , IntegerType(), True),\\\n",
    "    StructField('IsDrama' , IntegerType(), True),\\\n",
    "    StructField('IsFantasy' , IntegerType(), True),\\\n",
    "    StructField('IsFilmNoir' , IntegerType(), True),\\\n",
    "    StructField('IsHorror' , IntegerType(), True),\\\n",
    "    StructField('IsMusical' , IntegerType(), True),\\\n",
    "    StructField('IsMystery' , IntegerType(), True),\\\n",
    "    StructField('IsRomance' , IntegerType(), True),\\\n",
    "    StructField('IsSciFi' , IntegerType(), True),\\\n",
    "    StructField('IsThriller' , IntegerType(), True),\\\n",
    "    StructField('IsWar' , IntegerType(), True),\\\n",
    "    StructField('IsWestern' , IntegerType(), True)\n",
    "])\n",
    "\n",
    "MovieMetaData = spark.read.option('sep' , '|').schema(movieMetaDataSchema).csv('ml-100k/ml-100k/u.item')"
   ]
  },
  {
   "cell_type": "code",
   "execution_count": 4,
   "id": "d092cefa-0833-4fff-94bc-95b81b9cb50b",
   "metadata": {},
   "outputs": [
    {
     "name": "stdout",
     "output_type": "stream",
     "text": [
      "+---+--------------------+\n",
      "| Id|              Genres|\n",
      "+---+--------------------+\n",
      "|  1|[Animation, Child...|\n",
      "|  2|[Action, Adventur...|\n",
      "|  3|          [Thriller]|\n",
      "|  4|[Action, Comedy, ...|\n",
      "|  5|[Crime, Drama, Th...|\n",
      "|  6|             [Drama]|\n",
      "|  7|     [Drama, Sci-Fi]|\n",
      "|  8|[Children, Comedy...|\n",
      "|  9|             [Drama]|\n",
      "| 10|        [Drama, War]|\n",
      "+---+--------------------+\n",
      "only showing top 10 rows\n",
      "\n"
     ]
    }
   ],
   "source": [
    "# to get the genre based on the 1 and0 value \n",
    "def getGenre( value , genre ):\n",
    "    if (value ==1 ) :\n",
    "        return genre\n",
    "\n",
    "# creating genrelist as per movie id \n",
    "def createGenreList(line):\n",
    "    genreList = []\n",
    "    genreList.append(getGenre(line.IsAction , 'Action'))    \n",
    "    genreList.append(getGenre(line.IsAdventure , 'Adventure'))\n",
    "    genreList.append(getGenre(line.IsAnimation , 'Animation'))\n",
    "    genreList.append(getGenre(line.IsChildren , 'Children'))\n",
    "    genreList.append(getGenre(line.IsComedy , 'Comedy'))\n",
    "    genreList.append(getGenre(line.IsCrime , 'Crime'))\n",
    "    genreList.append(getGenre(line.IsDocumentary , 'Documentary'))\n",
    "    genreList.append(getGenre(line.IsDrama , 'Drama'))\n",
    "    genreList.append(getGenre(line.IsFantasy , 'Fantasy'))\n",
    "    genreList.append(getGenre(line.IsFilmNoir , 'FilmNoir'))\n",
    "    genreList.append(getGenre(line.IsHorror , 'Horror'))\n",
    "    genreList.append(getGenre(line.IsMusical , 'Musical'))\n",
    "    genreList.append(getGenre(line.IsMystery , 'Mystery'))\n",
    "    genreList.append(getGenre(line.IsRomance , 'Romance'))\n",
    "    genreList.append(getGenre(line.IsSciFi , 'Sci-Fi'))\n",
    "    genreList.append(getGenre(line.IsThriller , 'Thriller'))\n",
    "    genreList.append(getGenre(line.IsWar , 'War'))\n",
    "    genreList.append(getGenre(line.IsWestern , 'Western'))\n",
    "\n",
    "    # removing The None values \n",
    "    genreList = list (filter( lambda x : x != None  , genreList) )\n",
    "\n",
    "    # returning movie_id and genereList\n",
    "    return (line.Id  ,  genreList )\n",
    "\n",
    "MovieMetaDataRDD = MovieMetaData.rdd\n",
    "\n",
    "MovieMetaDataDF = MovieMetaDataRDD.map(createGenreList).toDF([ 'Id' , 'Genres'])\n",
    "MovieMetaDataDF.show(10)"
   ]
  },
  {
   "cell_type": "code",
   "execution_count": 5,
   "id": "aed6fd7f-d97d-4ab3-bef3-091680f9d150",
   "metadata": {},
   "outputs": [],
   "source": [
    "# exploding the different genre for one movie into multiple row \n",
    "MovieWithGenreDF = MovieMetaDataDF.withColumn('genre' , func.explode(func.col('Genres'))).select( 'Id' , 'genre')"
   ]
  },
  {
   "cell_type": "code",
   "execution_count": 6,
   "id": "b711763f-c35d-405c-84d7-5abb1ff30a7c",
   "metadata": {},
   "outputs": [
    {
     "name": "stdout",
     "output_type": "stream",
     "text": [
      "+---+---------+\n",
      "| Id|    genre|\n",
      "+---+---------+\n",
      "|  1|Animation|\n",
      "|  1| Children|\n",
      "|  1|   Comedy|\n",
      "|  2|   Action|\n",
      "|  2|Adventure|\n",
      "|  2| Thriller|\n",
      "|  3| Thriller|\n",
      "|  4|   Action|\n",
      "|  4|   Comedy|\n",
      "|  4|    Drama|\n",
      "+---+---------+\n",
      "only showing top 10 rows\n",
      "\n"
     ]
    }
   ],
   "source": [
    "MovieWithGenreDF.show(10)"
   ]
  },
  {
   "cell_type": "code",
   "execution_count": 7,
   "id": "7e22e533-3be1-4de1-9fe2-ab02dc1370ef",
   "metadata": {},
   "outputs": [
    {
     "name": "stdout",
     "output_type": "stream",
     "text": [
      "+-------+\n",
      "|max(Id)|\n",
      "+-------+\n",
      "|   1682|\n",
      "+-------+\n",
      "\n"
     ]
    }
   ],
   "source": [
    "MovieWithGenreDF.agg(func.max(func.col('Id'))).show()"
   ]
  },
  {
   "cell_type": "code",
   "execution_count": 9,
   "id": "21f8a67d-41ff-49c9-b5ba-01db0f9dd215",
   "metadata": {},
   "outputs": [],
   "source": [
    "ratings.createOrReplaceTempView('ratings_tab')\n",
    "MovieWithGenreDF.createOrReplaceTempView('MovieWithGenre')"
   ]
  },
  {
   "cell_type": "code",
   "execution_count": 12,
   "id": "3467d7d8-af2f-41f2-8fec-148afc04f4e4",
   "metadata": {},
   "outputs": [],
   "source": [
    "# joining user data with genre details \n",
    "userGenreData = spark.sql(\"\"\" \n",
    "        select user_id , genre\n",
    "        from ratings_tab join MovieWithGenre on movie_id = Id  \n",
    "\"\"\") \n",
    "\n",
    "# sql1.show()"
   ]
  },
  {
   "cell_type": "code",
   "execution_count": 18,
   "id": "e2ea7713-168e-4d64-981e-09dfa1420980",
   "metadata": {},
   "outputs": [
    {
     "name": "stdout",
     "output_type": "stream",
     "text": [
      "+-------+--------+-----+-----+\n",
      "|user_id|   genre|count|ranks|\n",
      "+-------+--------+-----+-----+\n",
      "|      1|   Drama|  107|    1|\n",
      "|      1|  Comedy|   91|    2|\n",
      "|      1|  Action|   75|    3|\n",
      "|      1|Thriller|   52|    4|\n",
      "|      1| Romance|   44|    5|\n",
      "|      2|   Drama|   35|    1|\n",
      "|      2| Romance|   16|    2|\n",
      "|      2|  Comedy|   16|    2|\n",
      "|      2|Thriller|   12|    3|\n",
      "|      2|  Action|   10|    4|\n",
      "|      2|   Crime|    9|    5|\n",
      "|      3|   Drama|   22|    1|\n",
      "|      3|Thriller|   21|    2|\n",
      "|      3|  Action|   14|    3|\n",
      "|      3|  Comedy|   12|    4|\n",
      "|      3| Mystery|   11|    5|\n",
      "|      4|Thriller|   11|    1|\n",
      "|      4|  Action|    8|    2|\n",
      "|      4|   Drama|    6|    3|\n",
      "|      4|  Sci-Fi|    6|    3|\n",
      "+-------+--------+-----+-----+\n",
      "only showing top 20 rows\n",
      "\n"
     ]
    }
   ],
   "source": [
    "# getting cumulative data count for every user_id , genre\n",
    "userGenreQumulitiveData = userGenreData.groupBy( func.col('user_id')  , func.col('genre') ).count().sort(func.col('user_id'))\n",
    "\n",
    "# window function condition to get the first 5 best genre per user\n",
    "windowFunc = Window.partitionBy(func.col('user_id')).orderBy(func.col('count').desc())\n",
    "userGenreRankData = userGenreQumulitiveData.withColumn('ranks' , func.dense_rank().over(windowFunc))\n",
    "\n",
    "## getting top 5 best genre Names per user \n",
    "userTop5GenreDetails = userGenreRankData.where( func.col('ranks') <=5).sort(func.col('user_id'))\n",
    "\n",
    "userTop5GenreDetails.show()\n"
   ]
  }
 ],
 "metadata": {
  "kernelspec": {
   "display_name": "Python 3 (ipykernel)",
   "language": "python",
   "name": "python3"
  },
  "language_info": {
   "codemirror_mode": {
    "name": "ipython",
    "version": 3
   },
   "file_extension": ".py",
   "mimetype": "text/x-python",
   "name": "python",
   "nbconvert_exporter": "python",
   "pygments_lexer": "ipython3",
   "version": "3.11.7"
  }
 },
 "nbformat": 4,
 "nbformat_minor": 5
}
